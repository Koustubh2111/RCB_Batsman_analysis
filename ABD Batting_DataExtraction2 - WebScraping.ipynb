{
 "cells": [
  {
   "cell_type": "markdown",
   "metadata": {},
   "source": [
    "### This code scraped ipt20.com for bowler stats"
   ]
  },
  {
   "cell_type": "code",
   "execution_count": 1,
   "metadata": {},
   "outputs": [],
   "source": [
    "from selenium import webdriver\n",
    "from selenium.webdriver.common.keys import Keys #Access to enter/esc key\n",
    "from selenium.webdriver.chrome.options import Options #Not open the browser while running\n",
    "import pandas as pd\n",
    "import time\n",
    "import h5py"
   ]
  },
  {
   "cell_type": "code",
   "execution_count": 44,
   "metadata": {},
   "outputs": [],
   "source": [
    "bowler_keys = ['Matches', \\\n",
    "         'Balls', \\\n",
    "         'Runs', \\\n",
    "         'Wickets', \\\n",
    "         'Best Bowling', \\\n",
    "         'Average', \\\n",
    "         'Economy', \\\n",
    "         'Strike Rate', \\\n",
    "         '4 Wicket Hauls', \\\n",
    "         '5 Wicket Hauls']\n",
    "\n",
    "batsman_keys = ['Matches', \\\n",
    "                'NotOut', \\\n",
    "                'Runs', \\\n",
    "                'Highest Score', \\\n",
    "                'Average', \\\n",
    "                'Balls faced', \\\n",
    "                'Strike rate', \\\n",
    "                '100s', \\\n",
    "                '50s', \\\n",
    "                'Fours', \\\n",
    "                'Sixes', \\\n",
    "                'Catches', \\\n",
    "                'Stumpings']\n",
    "\n",
    "def OpenBowlerPage(bowler_name, website):\n",
    "    \n",
    "    #website = iplt20 or cricinfo\n",
    "    \n",
    "    search = driver.find_element_by_name(\"q\")\n",
    "    search.send_keys(bowler_name + website)\n",
    "    search.send_keys(Keys.RETURN)\n",
    "    driver.find_element_by_tag_name(\"cite\").click()\n",
    "    \n",
    "def getBowlerStat(bowler_name):\n",
    "    \n",
    "    #Open the bowler page in iplt20.com\n",
    "    OpenBowlerPage(bowler_name, \" iplt20\")\n",
    "    \n",
    "    #delay for 2seconds\n",
    "    #time.sleep(1)\n",
    "    \n",
    "    #Scrape the final table corresponding to bowler stats\n",
    "    try:\n",
    "        \n",
    "        bowling_stats_table = driver.find_elements_by_tag_name('table')[-1]\n",
    "        \n",
    "    except:\n",
    "        \n",
    "        return []\n",
    "    \n",
    " \n",
    "    #Each field is a row with the first two rows being headers and aggergates\n",
    "    bowler_stat = []\n",
    "    for rows in bowling_stats_table.find_elements_by_tag_name('tr')[2:]:\n",
    "        \n",
    "        fields = rows.find_elements_by_tag_name('td')\n",
    "    \n",
    "        rows_stat = [field.text for field in fields]\n",
    "        \n",
    "        bowler_stat.append({rows_stat[0] : dict(zip(bowler_keys, rows_stat[1:])) })\n",
    "    \n",
    "    \n",
    "    return bowler_stat\n",
    "\n",
    "def getNonStrikerStat(non_striker_name):\n",
    "    \n",
    "    OpenBowlerPage(non_striker_name, \" iplt20\")\n",
    "    \n",
    "    try:\n",
    "        \n",
    "        non_striker_stats_table = driver.find_elements_by_tag_name('table')[-2]\n",
    "        \n",
    "    except:\n",
    "        \n",
    "        return []\n",
    "    non_striker_stat = []\n",
    "    for rows in non_striker_stats_table.find_elements_by_tag_name('tr')[2:]:\n",
    "        \n",
    "        fields = rows.find_elements_by_tag_name('td')\n",
    "    \n",
    "        rows_stat = [field.text for field in fields]\n",
    "        \n",
    "        non_striker_stat.append({rows_stat[0] : dict(zip(batsman_keys, rows_stat[1:])) })\n",
    "        \n",
    "    return non_striker_stat\n",
    "    \n",
    "    \n",
    "    \n",
    "def getBowlerType(bowler_name):\n",
    "    \n",
    "    #Open the bowler profile in cricbuzz; iplt20 is incomplete\n",
    "    OpenBowlerPage(bowler_name, \" profile cricbuzz\")\n",
    "    \n",
    "    try:\n",
    "        #Get web element of bowler type\n",
    "        bowler_type = driver.find_element_by_xpath('/html/body/div[1]/div[2]/div[3]/div[2]/div[1]/div/div[13]')\n",
    "    except:\n",
    "        return\n",
    "    \n",
    "    return bowler_type.text"
   ]
  },
  {
   "cell_type": "code",
   "execution_count": 3,
   "metadata": {},
   "outputs": [],
   "source": [
    "all_bowlers = ['Sandeep Sharma', 'MM Sharma', 'VR Aaron', 'T Natarajan',\n",
    "       'MP Stoinis', 'AR Patel', 'HH Pandya', 'KH Pandya', 'JJ Bumrah',\n",
    "       'MJ McClenaghan', 'SN Thakur', 'JD Unadkat', 'DT Christian',\n",
    "       'BA Stokes', 'Imran Tahir', 'UT Yadav', 'NM Coulter-Nile',\n",
    "       'Basil Thampi', 'AJ Tye', 'RA Jadeja', 'Ankit Soni', 'DL Chahar',\n",
    "       'LH Ferguson', 'SL Malinga', 'KV Sharma', 'CR Woakes', 'SP Narine',\n",
    "       'Kuldeep Yadav', 'MG Johnson', 'PP Chawla', 'AD Russell', 'N Rana',\n",
    "       'Mujeeb Ur Rahman', 'R Ashwin', 'S Gopal', 'B Laughlin',\n",
    "       'S Nadeem', 'CH Morris', 'HV Patel', 'R Tewatia', 'TA Boult',\n",
    "       'Harbhajan Singh', 'SR Watson', 'DJ Bravo', 'Rashid Khan',\n",
    "       'Shakib Al Hasan', 'S Lamichhane', 'A Mishra', 'CJ Dala', 'S Kaul',\n",
    "       'K Gowtham', 'JC Archer', 'IS Sodhi', 'M Markande',\n",
    "       'Mohammad Nabi', 'M Prasidh Krishna', 'I Sharma', 'K Rabada',\n",
    "       'Mohammed Shami', 'M Ashwin', 'SM Curran', 'JP Behrendorff',\n",
    "       'RD Chahar', 'AS Rajpoot', 'GC Viljoen', 'SE Rutherford',\n",
    "       'KK Ahmed', 'B Kumar', 'JL Pattinson', 'KA Pollard', 'DR Sams',\n",
    "       'A Nortje', 'SS Cottrell', 'Ravi Bishnoi', 'TK Curran',\n",
    "       'Kartik Tyagi', 'Abhishek Sharma', 'KL Nagarkoti', 'CV Varun',\n",
    "       'PJ Cummins', 'MJ Santner', 'Monu Kumar', 'JO Holder', 'M Jansen',\n",
    "       'Avesh Khan', 'Harpreet Brar', 'R Vinay Kumar', 'M Muralitharan',\n",
    "       'S Sreesanth', 'RP Singh', 'RV Gomez', 'AG Murtaza',\n",
    "       'JEC Franklin', 'MM Patel', 'MS Gony', 'JA Morkel', 'S Randiv',\n",
    "       'SB Jakati', 'SK Raina', 'TG Southee', 'Yuvraj Singh', 'R Sharma',\n",
    "       'Kamran Khan', 'JD Ryder', 'AC Thomas', 'L Ablish', 'RJ Harris',\n",
    "       'R McLaren', 'JH Kallis', 'Iqbal Abdulla', 'L Balaji', 'P Kumar',\n",
    "       'SJ Srivastava', 'PC Valthaty', 'AN Ahmed', 'DE Bollinger',\n",
    "       'DAJ Bracewell', 'GJ Maxwell', 'M Morkel', 'IK Pathan', 'B Lee',\n",
    "       'R Bhatia', 'Pankaj Singh', 'GB Hogg', 'SK Trivedi', 'A Nehra',\n",
    "       'AD Mathews', 'AB Dinda', 'P Awana', 'Harmeet Singh',\n",
    "       'Azhar Mahmood', 'A Chandila', 'KK Cooper', 'DJ Hussey',\n",
    "       'Anand Rajan', 'V Pratap Singh', 'A Ashish Reddy', 'DW Steyn',\n",
    "       'PJ Sangwan', 'DP Nannes', 'JP Faulkner', 'MR Marsh',\n",
    "       'DS Kulkarni', 'STR Binny', 'BAW Mendis', 'NLTC Perera',\n",
    "       'CL White', 'YK Pathan', 'SMSM Senanayake', 'MG Neser', 'Z Khan',\n",
    "       'PP Ojha', 'KW Richardson', 'R Dhawan', 'DJG Sammy',\n",
    "       'Shivam Sharma', 'PV Tambe', 'JP Duminy', 'Parvez Rasool',\n",
    "       'S Badree', 'KC Cariappa', 'RS Bopara', 'IC Pandey', 'DJ Hooda',\n",
    "       'Karanveer Singh', 'Anureet Singh', 'J Suchith', 'MC Henriques',\n",
    "       'Ankit Sharma', 'Mustafizur Rahman', 'P Negi', 'CR Brathwaite',\n",
    "       'BB Sran', 'A Zampa', 'S Kaushik', 'DR Smith', 'KJ Abbott',\n",
    "       'Bipul Sharma']"
   ]
  },
  {
   "cell_type": "code",
   "execution_count": null,
   "metadata": {},
   "outputs": [],
   "source": [
    "from selenium.webdriver.chrome.options import Options\n",
    "all_bowler_stats = []\n",
    "\n",
    "\n",
    "\n",
    "chrome_options = Options()\n",
    "chrome_options.page_load_strategy = 'normal'\n",
    "\n",
    "driver = webdriver.Chrome(options = chrome_options)\n",
    "driver.implicitly_wait(10)\n",
    "\n",
    "\n",
    "driver.get('https://www.google.com/')\n",
    "\n",
    "\n",
    "time_bowler = []\n",
    "for bowler_name in all_bowlers:\n",
    "    \n",
    "    #Scrape Data \n",
    "    start = time.time()\n",
    "    \n",
    "    #Not all of them have stats\n",
    "    bowler_stat = getBowlerStat(bowler_name)\n",
    "    \n",
    "    stop = time.time()\n",
    "    \n",
    "    time_bowler.append(stop - start)\n",
    "    print('Bowler : ' + bowler_name  ,stop - start)\n",
    "    \n",
    "    #Use same tab\n",
    "    driver.get('https://www.google.com/')\n",
    "    #Append as dict with bowler name\n",
    "    all_bowler_stats.append({bowler_name : bowler_stat})\n",
    "\n",
    "driver.quit()\n",
    "    "
   ]
  },
  {
   "cell_type": "code",
   "execution_count": 27,
   "metadata": {},
   "outputs": [],
   "source": [
    "time_bowler_type = []\n",
    "all_bowler_type = []"
   ]
  },
  {
   "cell_type": "code",
   "execution_count": 28,
   "metadata": {},
   "outputs": [],
   "source": [
    "\"\"\"\n",
    "chrome_options = Options()\n",
    "chrome_options.page_load_strategy = 'normal'\n",
    "chrome_options.add_argument(\"--incognito\")\n",
    "\"\"\"\n",
    "\n",
    "#driver = webdriver.Firefox()\n",
    "driver = webdriver.Chrome()\n",
    "#driver.implicitly_wait(10)\n",
    "\n",
    "\n",
    "\n",
    "driver.get('https://www.google.com/')\n"
   ]
  },
  {
   "cell_type": "code",
   "execution_count": 40,
   "metadata": {},
   "outputs": [
    {
     "name": "stdout",
     "output_type": "stream",
     "text": [
      "Bowler : Ankit Sharma 2.115129232406616\n",
      "Bowler : Mustafizur Rahman 1.664046287536621\n",
      "Bowler : P Negi 2.097186803817749\n",
      "Bowler : CR Brathwaite 1.6293418407440186\n",
      "Bowler : BB Sran 2.6035802364349365\n",
      "Bowler : A Zampa 1.8841350078582764\n",
      "Bowler : S Kaushik 2.0013906955718994\n",
      "Bowler : DR Smith 2.1320033073425293\n",
      "Bowler : KJ Abbott 1.9161510467529297\n",
      "Bowler : Bipul Sharma 2.684971332550049\n"
     ]
    }
   ],
   "source": [
    "#ISSUE: More than 25bowlers, google recaptcha is thrown, find way around it\n",
    "for bowler_name in all_bowlers[168:]:\n",
    "    \n",
    "    #Scrape Data \n",
    "    start = time.time()\n",
    "    \n",
    "    #Not all of them have stats\n",
    "        \n",
    "    bowler_type = getBowlerType(bowler_name)\n",
    "\n",
    "    \n",
    "    stop = time.time()\n",
    "    \n",
    "    time_bowler_type.append(stop - start)\n",
    "    print('Bowler : ' + bowler_name  ,stop - start)\n",
    "    \n",
    "    #Use same tab\n",
    "    driver.get('https://www.google.com/')\n",
    "    #Append as dict with bowler name\n",
    "    all_bowler_type.append({bowler_name : bowler_type})\n",
    "driver.quit()"
   ]
  },
  {
   "cell_type": "code",
   "execution_count": 43,
   "metadata": {},
   "outputs": [],
   "source": [
    "#Non striker data\n",
    "all_non_strikers = ['Vishnu Vinod', 'KM Jadhav', 'Mandeep Singh', 'STR Binny',\n",
    "       'V Kohli', 'CH Gayle', 'TM Head', 'Q de Kock', 'CJ Anderson',\n",
    "       'PA Patel', 'MM Ali', 'SN Khan', 'C de Grandhomme', 'SO Hetmyer',\n",
    "       'S Dube', 'MP Stoinis', 'AD Nath', 'D Padikkal', 'JR Philippe',\n",
    "       'Washington Sundar', 'AJ Finch', 'Gurkeerat Singh', 'NA Saini',\n",
    "       'GJ Maxwell', 'Shahbaz Ahmed', 'DT Christian', 'KA Jamieson',\n",
    "       'HV Patel', 'RM Patidar', 'DR Sams', 'MA Agarwal', 'SS Tiwary',\n",
    "       'AUK Pathan', 'TM Dilshan', 'CA Pujara', 'JJ van der Wath',\n",
    "       'M Kaif', 'A Mithun', 'KB Arun Karthik', 'LA Pomersbach',\n",
    "       'DL Vettori', 'R Vinay Kumar', 'AB McDonald', 'J Syed Mohammad',\n",
    "       'R Rampaul', 'MC Henriques', 'Yuvraj Singh', 'JA Morkel',\n",
    "       'RR Rossouw', 'MA Starc', 'S Rana', 'VH Zol', 'DJG Sammy',\n",
    "       'SA Abbott', 'KD Karthik', 'D Wiese', 'SR Watson', 'KL Rahul',\n",
    "       'Sachin Baby', 'Iqbal Abdulla']"
   ]
  },
  {
   "cell_type": "code",
   "execution_count": 46,
   "metadata": {
    "collapsed": true
   },
   "outputs": [
    {
     "ename": "NoSuchElementException",
     "evalue": "Message: no such element: Unable to locate element: {\"method\":\"css selector\",\"selector\":\"cite\"}\n  (Session info: chrome=91.0.4472.77)\n",
     "output_type": "error",
     "traceback": [
      "\u001b[1;31m---------------------------------------------------------------------------\u001b[0m",
      "\u001b[1;31mNoSuchElementException\u001b[0m                    Traceback (most recent call last)",
      "\u001b[1;32m<ipython-input-46-62b05094b379>\u001b[0m in \u001b[0;36m<module>\u001b[1;34m\u001b[0m\n\u001b[0;32m      8\u001b[0m     \u001b[0mstart\u001b[0m \u001b[1;33m=\u001b[0m \u001b[0mtime\u001b[0m\u001b[1;33m.\u001b[0m\u001b[0mtime\u001b[0m\u001b[1;33m(\u001b[0m\u001b[1;33m)\u001b[0m\u001b[1;33m\u001b[0m\u001b[1;33m\u001b[0m\u001b[0m\n\u001b[0;32m      9\u001b[0m \u001b[1;33m\u001b[0m\u001b[0m\n\u001b[1;32m---> 10\u001b[1;33m     \u001b[0mnon_striker_stat\u001b[0m \u001b[1;33m=\u001b[0m \u001b[0mgetNonStrikerStat\u001b[0m\u001b[1;33m(\u001b[0m\u001b[0mnon_striker\u001b[0m\u001b[1;33m)\u001b[0m\u001b[1;33m\u001b[0m\u001b[1;33m\u001b[0m\u001b[0m\n\u001b[0m\u001b[0;32m     11\u001b[0m \u001b[1;33m\u001b[0m\u001b[0m\n\u001b[0;32m     12\u001b[0m     \u001b[0mstop\u001b[0m \u001b[1;33m=\u001b[0m \u001b[0mtime\u001b[0m\u001b[1;33m.\u001b[0m\u001b[0mtime\u001b[0m\u001b[1;33m(\u001b[0m\u001b[1;33m)\u001b[0m\u001b[1;33m\u001b[0m\u001b[1;33m\u001b[0m\u001b[0m\n",
      "\u001b[1;32m<ipython-input-44-d3b97488d9b7>\u001b[0m in \u001b[0;36mgetNonStrikerStat\u001b[1;34m(non_striker_name)\u001b[0m\n\u001b[0;32m     66\u001b[0m \u001b[1;32mdef\u001b[0m \u001b[0mgetNonStrikerStat\u001b[0m\u001b[1;33m(\u001b[0m\u001b[0mnon_striker_name\u001b[0m\u001b[1;33m)\u001b[0m\u001b[1;33m:\u001b[0m\u001b[1;33m\u001b[0m\u001b[1;33m\u001b[0m\u001b[0m\n\u001b[0;32m     67\u001b[0m \u001b[1;33m\u001b[0m\u001b[0m\n\u001b[1;32m---> 68\u001b[1;33m     \u001b[0mOpenBowlerPage\u001b[0m\u001b[1;33m(\u001b[0m\u001b[0mnon_striker_name\u001b[0m\u001b[1;33m,\u001b[0m \u001b[1;34m\" iplt20\"\u001b[0m\u001b[1;33m)\u001b[0m\u001b[1;33m\u001b[0m\u001b[1;33m\u001b[0m\u001b[0m\n\u001b[0m\u001b[0;32m     69\u001b[0m \u001b[1;33m\u001b[0m\u001b[0m\n\u001b[0;32m     70\u001b[0m     \u001b[1;32mtry\u001b[0m\u001b[1;33m:\u001b[0m\u001b[1;33m\u001b[0m\u001b[1;33m\u001b[0m\u001b[0m\n",
      "\u001b[1;32m<ipython-input-44-d3b97488d9b7>\u001b[0m in \u001b[0;36mOpenBowlerPage\u001b[1;34m(bowler_name, website)\u001b[0m\n\u001b[0;32m     31\u001b[0m     \u001b[0msearch\u001b[0m\u001b[1;33m.\u001b[0m\u001b[0msend_keys\u001b[0m\u001b[1;33m(\u001b[0m\u001b[0mbowler_name\u001b[0m \u001b[1;33m+\u001b[0m \u001b[0mwebsite\u001b[0m\u001b[1;33m)\u001b[0m\u001b[1;33m\u001b[0m\u001b[1;33m\u001b[0m\u001b[0m\n\u001b[0;32m     32\u001b[0m     \u001b[0msearch\u001b[0m\u001b[1;33m.\u001b[0m\u001b[0msend_keys\u001b[0m\u001b[1;33m(\u001b[0m\u001b[0mKeys\u001b[0m\u001b[1;33m.\u001b[0m\u001b[0mRETURN\u001b[0m\u001b[1;33m)\u001b[0m\u001b[1;33m\u001b[0m\u001b[1;33m\u001b[0m\u001b[0m\n\u001b[1;32m---> 33\u001b[1;33m     \u001b[0mdriver\u001b[0m\u001b[1;33m.\u001b[0m\u001b[0mfind_element_by_tag_name\u001b[0m\u001b[1;33m(\u001b[0m\u001b[1;34m\"cite\"\u001b[0m\u001b[1;33m)\u001b[0m\u001b[1;33m.\u001b[0m\u001b[0mclick\u001b[0m\u001b[1;33m(\u001b[0m\u001b[1;33m)\u001b[0m\u001b[1;33m\u001b[0m\u001b[1;33m\u001b[0m\u001b[0m\n\u001b[0m\u001b[0;32m     34\u001b[0m \u001b[1;33m\u001b[0m\u001b[0m\n\u001b[0;32m     35\u001b[0m \u001b[1;32mdef\u001b[0m \u001b[0mgetBowlerStat\u001b[0m\u001b[1;33m(\u001b[0m\u001b[0mbowler_name\u001b[0m\u001b[1;33m)\u001b[0m\u001b[1;33m:\u001b[0m\u001b[1;33m\u001b[0m\u001b[1;33m\u001b[0m\u001b[0m\n",
      "\u001b[1;32m~\\Anaconda3\\envs\\NeuralNets\\lib\\site-packages\\selenium\\webdriver\\remote\\webdriver.py\u001b[0m in \u001b[0;36mfind_element_by_tag_name\u001b[1;34m(self, name)\u001b[0m\n\u001b[0;32m    528\u001b[0m             \u001b[0melement\u001b[0m \u001b[1;33m=\u001b[0m \u001b[0mdriver\u001b[0m\u001b[1;33m.\u001b[0m\u001b[0mfind_element_by_tag_name\u001b[0m\u001b[1;33m(\u001b[0m\u001b[1;34m'h1'\u001b[0m\u001b[1;33m)\u001b[0m\u001b[1;33m\u001b[0m\u001b[1;33m\u001b[0m\u001b[0m\n\u001b[0;32m    529\u001b[0m         \"\"\"\n\u001b[1;32m--> 530\u001b[1;33m         \u001b[1;32mreturn\u001b[0m \u001b[0mself\u001b[0m\u001b[1;33m.\u001b[0m\u001b[0mfind_element\u001b[0m\u001b[1;33m(\u001b[0m\u001b[0mby\u001b[0m\u001b[1;33m=\u001b[0m\u001b[0mBy\u001b[0m\u001b[1;33m.\u001b[0m\u001b[0mTAG_NAME\u001b[0m\u001b[1;33m,\u001b[0m \u001b[0mvalue\u001b[0m\u001b[1;33m=\u001b[0m\u001b[0mname\u001b[0m\u001b[1;33m)\u001b[0m\u001b[1;33m\u001b[0m\u001b[1;33m\u001b[0m\u001b[0m\n\u001b[0m\u001b[0;32m    531\u001b[0m \u001b[1;33m\u001b[0m\u001b[0m\n\u001b[0;32m    532\u001b[0m     \u001b[1;32mdef\u001b[0m \u001b[0mfind_elements_by_tag_name\u001b[0m\u001b[1;33m(\u001b[0m\u001b[0mself\u001b[0m\u001b[1;33m,\u001b[0m \u001b[0mname\u001b[0m\u001b[1;33m)\u001b[0m\u001b[1;33m:\u001b[0m\u001b[1;33m\u001b[0m\u001b[1;33m\u001b[0m\u001b[0m\n",
      "\u001b[1;32m~\\Anaconda3\\envs\\NeuralNets\\lib\\site-packages\\selenium\\webdriver\\remote\\webdriver.py\u001b[0m in \u001b[0;36mfind_element\u001b[1;34m(self, by, value)\u001b[0m\n\u001b[0;32m    976\u001b[0m         return self.execute(Command.FIND_ELEMENT, {\n\u001b[0;32m    977\u001b[0m             \u001b[1;34m'using'\u001b[0m\u001b[1;33m:\u001b[0m \u001b[0mby\u001b[0m\u001b[1;33m,\u001b[0m\u001b[1;33m\u001b[0m\u001b[1;33m\u001b[0m\u001b[0m\n\u001b[1;32m--> 978\u001b[1;33m             'value': value})['value']\n\u001b[0m\u001b[0;32m    979\u001b[0m \u001b[1;33m\u001b[0m\u001b[0m\n\u001b[0;32m    980\u001b[0m     \u001b[1;32mdef\u001b[0m \u001b[0mfind_elements\u001b[0m\u001b[1;33m(\u001b[0m\u001b[0mself\u001b[0m\u001b[1;33m,\u001b[0m \u001b[0mby\u001b[0m\u001b[1;33m=\u001b[0m\u001b[0mBy\u001b[0m\u001b[1;33m.\u001b[0m\u001b[0mID\u001b[0m\u001b[1;33m,\u001b[0m \u001b[0mvalue\u001b[0m\u001b[1;33m=\u001b[0m\u001b[1;32mNone\u001b[0m\u001b[1;33m)\u001b[0m\u001b[1;33m:\u001b[0m\u001b[1;33m\u001b[0m\u001b[1;33m\u001b[0m\u001b[0m\n",
      "\u001b[1;32m~\\Anaconda3\\envs\\NeuralNets\\lib\\site-packages\\selenium\\webdriver\\remote\\webdriver.py\u001b[0m in \u001b[0;36mexecute\u001b[1;34m(self, driver_command, params)\u001b[0m\n\u001b[0;32m    319\u001b[0m         \u001b[0mresponse\u001b[0m \u001b[1;33m=\u001b[0m \u001b[0mself\u001b[0m\u001b[1;33m.\u001b[0m\u001b[0mcommand_executor\u001b[0m\u001b[1;33m.\u001b[0m\u001b[0mexecute\u001b[0m\u001b[1;33m(\u001b[0m\u001b[0mdriver_command\u001b[0m\u001b[1;33m,\u001b[0m \u001b[0mparams\u001b[0m\u001b[1;33m)\u001b[0m\u001b[1;33m\u001b[0m\u001b[1;33m\u001b[0m\u001b[0m\n\u001b[0;32m    320\u001b[0m         \u001b[1;32mif\u001b[0m \u001b[0mresponse\u001b[0m\u001b[1;33m:\u001b[0m\u001b[1;33m\u001b[0m\u001b[1;33m\u001b[0m\u001b[0m\n\u001b[1;32m--> 321\u001b[1;33m             \u001b[0mself\u001b[0m\u001b[1;33m.\u001b[0m\u001b[0merror_handler\u001b[0m\u001b[1;33m.\u001b[0m\u001b[0mcheck_response\u001b[0m\u001b[1;33m(\u001b[0m\u001b[0mresponse\u001b[0m\u001b[1;33m)\u001b[0m\u001b[1;33m\u001b[0m\u001b[1;33m\u001b[0m\u001b[0m\n\u001b[0m\u001b[0;32m    322\u001b[0m             response['value'] = self._unwrap_value(\n\u001b[0;32m    323\u001b[0m                 response.get('value', None))\n",
      "\u001b[1;32m~\\Anaconda3\\envs\\NeuralNets\\lib\\site-packages\\selenium\\webdriver\\remote\\errorhandler.py\u001b[0m in \u001b[0;36mcheck_response\u001b[1;34m(self, response)\u001b[0m\n\u001b[0;32m    240\u001b[0m                 \u001b[0malert_text\u001b[0m \u001b[1;33m=\u001b[0m \u001b[0mvalue\u001b[0m\u001b[1;33m[\u001b[0m\u001b[1;34m'alert'\u001b[0m\u001b[1;33m]\u001b[0m\u001b[1;33m.\u001b[0m\u001b[0mget\u001b[0m\u001b[1;33m(\u001b[0m\u001b[1;34m'text'\u001b[0m\u001b[1;33m)\u001b[0m\u001b[1;33m\u001b[0m\u001b[1;33m\u001b[0m\u001b[0m\n\u001b[0;32m    241\u001b[0m             \u001b[1;32mraise\u001b[0m \u001b[0mexception_class\u001b[0m\u001b[1;33m(\u001b[0m\u001b[0mmessage\u001b[0m\u001b[1;33m,\u001b[0m \u001b[0mscreen\u001b[0m\u001b[1;33m,\u001b[0m \u001b[0mstacktrace\u001b[0m\u001b[1;33m,\u001b[0m \u001b[0malert_text\u001b[0m\u001b[1;33m)\u001b[0m\u001b[1;33m\u001b[0m\u001b[1;33m\u001b[0m\u001b[0m\n\u001b[1;32m--> 242\u001b[1;33m         \u001b[1;32mraise\u001b[0m \u001b[0mexception_class\u001b[0m\u001b[1;33m(\u001b[0m\u001b[0mmessage\u001b[0m\u001b[1;33m,\u001b[0m \u001b[0mscreen\u001b[0m\u001b[1;33m,\u001b[0m \u001b[0mstacktrace\u001b[0m\u001b[1;33m)\u001b[0m\u001b[1;33m\u001b[0m\u001b[1;33m\u001b[0m\u001b[0m\n\u001b[0m\u001b[0;32m    243\u001b[0m \u001b[1;33m\u001b[0m\u001b[0m\n\u001b[0;32m    244\u001b[0m     \u001b[1;32mdef\u001b[0m \u001b[0m_value_or_default\u001b[0m\u001b[1;33m(\u001b[0m\u001b[0mself\u001b[0m\u001b[1;33m,\u001b[0m \u001b[0mobj\u001b[0m\u001b[1;33m,\u001b[0m \u001b[0mkey\u001b[0m\u001b[1;33m,\u001b[0m \u001b[0mdefault\u001b[0m\u001b[1;33m)\u001b[0m\u001b[1;33m:\u001b[0m\u001b[1;33m\u001b[0m\u001b[1;33m\u001b[0m\u001b[0m\n",
      "\u001b[1;31mNoSuchElementException\u001b[0m: Message: no such element: Unable to locate element: {\"method\":\"css selector\",\"selector\":\"cite\"}\n  (Session info: chrome=91.0.4472.77)\n"
     ]
    }
   ],
   "source": [
    "all_non_strikers_stat = []\n",
    "driver = webdriver.Chrome()\n",
    "driver.get('https://www.google.com/')\n",
    "\n",
    "    "
   ]
  },
  {
   "cell_type": "code",
   "execution_count": 63,
   "metadata": {},
   "outputs": [
    {
     "name": "stdout",
     "output_type": "stream",
     "text": [
      "Non Striker : DL Vettori 2.407116651535034\n",
      "Non Striker : R Vinay Kumar 4.234518527984619\n",
      "Non Striker : AB McDonald 2.8538739681243896\n",
      "Non Striker : J Syed Mohammad 2.511409282684326\n",
      "Non Striker : R Rampaul 2.4302260875701904\n",
      "Non Striker : MC Henriques 3.2986302375793457\n",
      "Non Striker : Yuvraj Singh 3.686047077178955\n",
      "Non Striker : JA Morkel 3.4978675842285156\n",
      "Non Striker : RR Rossouw 2.51784086227417\n",
      "Non Striker : MA Starc 2.092555284500122\n",
      "Non Striker : S Rana 3.2179372310638428\n",
      "Non Striker : VH Zol 3.4719479084014893\n",
      "Non Striker : DJG Sammy 2.57173752784729\n",
      "Non Striker : SA Abbott 2.28963565826416\n",
      "Non Striker : KD Karthik 4.09039044380188\n",
      "Non Striker : D Wiese 2.354423999786377\n",
      "Non Striker : SR Watson 3.7365667819976807\n",
      "Non Striker : KL Rahul 2.772904634475708\n",
      "Non Striker : Sachin Baby 2.480980396270752\n",
      "Non Striker : Iqbal Abdulla 3.528597116470337\n"
     ]
    }
   ],
   "source": [
    "for non_striker in all_non_strikers[40:]:\n",
    "    \n",
    "\n",
    "    \n",
    "    start = time.time()\n",
    "    \n",
    "    non_striker_stat = getNonStrikerStat(non_striker)\n",
    "    \n",
    "    stop = time.time()\n",
    "\n",
    "    print('Non Striker : ' + non_striker  ,stop - start)\n",
    "    \n",
    "    all_non_strikers_stat.append({non_striker : non_striker_stat})\n",
    "    \n",
    "    driver.get('https://www.google.com/')\n",
    "    "
   ]
  },
  {
   "cell_type": "markdown",
   "metadata": {},
   "source": [
    "### Save the data as JSON for fast access"
   ]
  },
  {
   "cell_type": "code",
   "execution_count": null,
   "metadata": {},
   "outputs": [],
   "source": [
    "import json\n",
    "with open('bowler_stats.json', 'w') as f:\n",
    "    json.dump(all_bowler_stats, f)"
   ]
  },
  {
   "cell_type": "code",
   "execution_count": null,
   "metadata": {},
   "outputs": [],
   "source": [
    "#with open('my_dict.json') as f:\n",
    "#    my_dict = json.load(f)"
   ]
  },
  {
   "cell_type": "code",
   "execution_count": 42,
   "metadata": {},
   "outputs": [],
   "source": [
    "import json\n",
    "\n",
    "with open('bowler_type_3.json', 'w') as f:\n",
    "    json.dump(all_bowler_type, f)"
   ]
  },
  {
   "cell_type": "code",
   "execution_count": 65,
   "metadata": {},
   "outputs": [],
   "source": [
    "with open('non_striker_stat.json', 'w') as f:\n",
    "    json.dump(all_non_strikers_stat, f)"
   ]
  },
  {
   "cell_type": "code",
   "execution_count": null,
   "metadata": {},
   "outputs": [],
   "source": []
  }
 ],
 "metadata": {
  "kernelspec": {
   "display_name": "Python 3",
   "language": "python",
   "name": "python3"
  },
  "language_info": {
   "codemirror_mode": {
    "name": "ipython",
    "version": 3
   },
   "file_extension": ".py",
   "mimetype": "text/x-python",
   "name": "python",
   "nbconvert_exporter": "python",
   "pygments_lexer": "ipython3",
   "version": "3.6.7"
  }
 },
 "nbformat": 4,
 "nbformat_minor": 2
}
